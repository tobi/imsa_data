{
  "cells": [
    {
      "cell_type": "markdown",
      "metadata": {},
      "source": "# LMP2 Driver License Analysis\n\nThis notebook explores the history of the IMSA LMP2 class using the event data in this repository. We build the DuckDB database using the same SQL scripts referenced in the `Rakefile` and then break down results by driver license level."
    },
    {
      "cell_type": "code",
      "metadata": {},
      "execution_count": null,
      "outputs": [],
      "source": "import duckdb\nimport pandas as pd\nimport matplotlib.pyplot as plt\nimport seaborn as sns\n\nsns.set(style='whitegrid')"
    },
    {
      "cell_type": "markdown",
      "metadata": {},
      "source": "## Build the DuckDB database\n\nThe database is created by executing `all-event-laps.sql` and `all-event-drivers.sql`. This mirrors the `rake db:update` task in the repository. The result is an in-memory DuckDB connection containing the `event_laps` and `event_drivers` tables."
    },
    {
      "cell_type": "code",
      "metadata": {},
      "execution_count": null,
      "outputs": [],
      "source": "con = duckdb.connect()\nwith open('all-event-laps.sql') as f:\n    con.execute(f.read())\nwith open('all-event-drivers.sql') as f:\n    con.execute(f.read())"
    },
    {
      "cell_type": "markdown",
      "metadata": {},
      "source": "## Join lap data with driver information\n\nFor analysis we join the lap times with driver license information and focus on the LMP2 class."
    },
    {
      "cell_type": "code",
      "metadata": {},
      "execution_count": null,
      "outputs": [],
      "source": "con.execute('''\nCREATE OR REPLACE VIEW lmp2_laps AS\nSELECT el.*, ed.license, ed.license_rank\nFROM event_laps el\nJOIN event_drivers ed\n  ON el.year = ed.year\n AND el.event = ed.event\n AND el.session = ed.session\n AND el.driver_name = ed.name\nWHERE el.class = 'LMP2';\n''')"
    },
    {
      "cell_type": "markdown",
      "metadata": {},
      "source": "### Basic data overview"
    },
    {
      "cell_type": "code",
      "metadata": {},
      "execution_count": null,
      "outputs": [],
      "source": "overview = con.execute('''\nSELECT MIN(year) AS first_year,\n       MAX(year) AS last_year,\n       COUNT(DISTINCT event) AS events,\n       COUNT(DISTINCT session) AS sessions,\n       COUNT(DISTINCT driver_name) AS drivers\nFROM lmp2_laps;\n''').df()\noverview"
    },
    {
      "cell_type": "markdown",
      "metadata": {},
      "source": "## LMP2 drivers by license over the years"
    },
    {
      "cell_type": "code",
      "metadata": {},
      "execution_count": null,
      "outputs": [],
      "source": "license_year = con.execute('''\nSELECT license,\n       year,\n       COUNT(DISTINCT session || '_' || car) AS entries,\n       AVG(EXTRACT(EPOCH FROM lap_time)) AS avg_lap_seconds\nFROM lmp2_laps\nGROUP BY license, year\nORDER BY year, license;\n''').df()\nlicense_year.head()"
    },
    {
      "cell_type": "code",
      "metadata": {},
      "execution_count": null,
      "outputs": [],
      "source": "plt.figure(figsize=(10,6))\nfor license, grp in license_year.groupby('license'):\n    plt.plot(grp['year'], grp['avg_lap_seconds'], marker='o', label=license)\nplt.xlabel('Year')\nplt.ylabel('Average Lap Time (s)')\nplt.title('Average LMP2 Lap Time by Driver License')\nplt.legend()\nplt.show()"
    },
    {
      "cell_type": "markdown",
      "metadata": {},
      "source": "## Bronze drivers by circuit over time\n\nThis section focuses specifically on Bronze rated drivers. We compute their average lap time at every circuit for each year."
    },
    {
      "cell_type": "code",
      "metadata": {},
      "execution_count": null,
      "outputs": [],
      "source": "bronze_event_year = con.execute('''\nSELECT year, event,\n       AVG(EXTRACT(EPOCH FROM lap_time)) AS avg_lap_seconds\nFROM lmp2_laps\nWHERE license = 'Bronze'\nGROUP BY year, event\nORDER BY year, event;\n''').df()\nbronze_event_year.head()"
    },
    {
      "cell_type": "code",
      "metadata": {},
      "execution_count": null,
      "outputs": [],
      "source": "plt.figure(figsize=(12,6))\nfor event, grp in bronze_event_year.groupby('event'):\n    plt.plot(grp['year'], grp['avg_lap_seconds'], marker='o', label=event)\nplt.xlabel('Year')\nplt.ylabel('Average Lap Time (s)')\nplt.title('Bronze Driver Performance by Circuit')\nplt.legend(bbox_to_anchor=(1.05,1), loc='upper left')\nplt.tight_layout()\nplt.show()"
    },
    {
      "cell_type": "markdown",
      "metadata": {},
      "source": "## License distribution in LMP2\n\nHow many unique drivers of each license level have competed in LMP2?"
    },
    {
      "cell_type": "code",
      "metadata": {},
      "execution_count": null,
      "outputs": [],
      "source": "license_counts = con.execute('''\nSELECT license, COUNT(DISTINCT driver_name) AS drivers\nFROM lmp2_laps\nGROUP BY license\nORDER BY license_rank DESC;\n''').df()\nlicense_counts"
    },
    {
      "cell_type": "code",
      "metadata": {},
      "execution_count": null,
      "outputs": [],
      "source": "sns.barplot(data=license_counts, x='license', y='drivers')\nplt.xlabel('License')\nplt.ylabel('Unique Drivers')\nplt.title('LMP2 Driver License Distribution')\nplt.show()"
    },
    {
      "cell_type": "markdown",
      "metadata": {},
      "source": "## Future work\n\nThis notebook scratches the surface of what can be done with the IMSA dataset. Potential extensions include:\n\n- Integrating results positions to study finishing trends.\n- Analysing stint lengths and pit strategy by license level.\n- Comparing qualifying vs race performance for different driver ratings."
    }
  ],
  "metadata": {
    "kernelspec": {
      "display_name": "Python 3",
      "language": "python",
      "name": "python3"
    },
    "language_info": {
      "name": "python",
      "version": "3.x"
    }
  },
  "nbformat": 4,
  "nbformat_minor": 5
}
